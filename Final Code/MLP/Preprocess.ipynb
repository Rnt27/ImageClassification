{
 "cells": [
  {
   "cell_type": "code",
   "execution_count": null,
   "metadata": {},
   "outputs": [],
   "source": [
    "from PIL import Image\n",
    "import sys\n",
    "\n",
    "labels = []\n",
    "# download the train and test Labels for Cifar Dataset (For test set is the same)\n",
    "# Link: https://www.kaggle.com/c/cifar-10/\n",
    "f = open(\"trainLabels.csv\")\n",
    "for line in f:\n",
    "\tlabels.append( '\"' + line.rstrip().split(',')[1] + '\"' )\n",
    "f.close()\n",
    "\n",
    "array = []\n",
    "for i in range(0,32*32):\n",
    "\tfor j in ['r','g','b']:\n",
    "\t\tarray.append('\"px' + j + str(i) + '\"')\n",
    "array.append('\"class\"')\n",
    "print (\",\".join(arr))\n",
    "\n",
    "\n",
    "\n",
    "for x in range(1, 50000+1):\n",
    "\n",
    "\t#im = Image.open('train/' + str(x) + '.png').convert('LA')\n",
    "\tim = Image.open('train/' + str(x) + '.png')\n",
    "\n",
    "\t#im.show()\n",
    "\t\n",
    "\tarr = []\n",
    "\tfor i in range(0, 32):\n",
    "\t\tfor j in range(0, 32):\n",
    "\t\t\ttp = im.getpixel((i,j))\n",
    "\t\t\tarr.append( str(tp[0]) )\n",
    "\t\t\tarr.append( str(tp[1]) )\n",
    "\t\t\tarr.append( str(tp[2]) )\n",
    "\t\t\t\n",
    "\tprint (\",\".join(arr) + \",\" + labels[x])\n",
    "\n",
    "\n",
    "# conver nominal class lavels to int\n",
    "df = pd.read_csv('train.csv')\n",
    "class_mapping = {label: i for i, label in enumerate(np.unique(df['class']))}\n",
    "class_mapping.to_csv('train', header=None, index=False)"
   ]
  }
 ],
 "metadata": {
  "kernelspec": {
   "display_name": "Python 3",
   "language": "python",
   "name": "python3"
  },
  "language_info": {
   "codemirror_mode": {
    "name": "ipython",
    "version": 3
   },
   "file_extension": ".py",
   "mimetype": "text/x-python",
   "name": "python",
   "nbconvert_exporter": "python",
   "pygments_lexer": "ipython3",
   "version": "3.6.8"
  }
 },
 "nbformat": 4,
 "nbformat_minor": 2
}
