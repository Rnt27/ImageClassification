{
 "cells": [
  {
   "cell_type": "markdown",
   "metadata": {
    "colab_type": "text",
    "id": "S9oJSChFswZD"
   },
   "source": [
    "# Project 3 Group 27 \n",
    "\n",
    "Zainab Almheiri\n",
    "Renato Salinas Gallo\n",
    "M. Amini\n"
   ]
  },
  {
   "cell_type": "markdown",
   "metadata": {
    "colab_type": "text",
    "id": "vh2sHhcowK_m"
   },
   "source": [
    "# Google Drive"
   ]
  },
  {
   "cell_type": "code",
   "execution_count": 0,
   "metadata": {
    "colab": {
     "base_uri": "https://localhost:8080/",
     "height": 122
    },
    "colab_type": "code",
    "id": "7KYBqLIgsuk0",
    "outputId": "4d08f721-4e26-4765-d813-c5805256aed3"
   },
   "outputs": [
    {
     "name": "stdout",
     "output_type": "stream",
     "text": [
      "Go to this URL in a browser: https://accounts.google.com/o/oauth2/auth?client_id=947318989803-6bn6qk8qdgf4n4g3pfee6491hc0brc4i.apps.googleusercontent.com&redirect_uri=urn%3aietf%3awg%3aoauth%3a2.0%3aoob&response_type=code&scope=email%20https%3a%2f%2fwww.googleapis.com%2fauth%2fdocs.test%20https%3a%2f%2fwww.googleapis.com%2fauth%2fdrive%20https%3a%2f%2fwww.googleapis.com%2fauth%2fdrive.photos.readonly%20https%3a%2f%2fwww.googleapis.com%2fauth%2fpeopleapi.readonly\n",
      "\n",
      "Enter your authorization code:\n",
      "··········\n",
      "Mounted at /content/gdrive\n"
     ]
    }
   ],
   "source": [
    "from google.colab import drive\n",
    "drive.mount('/content/gdrive')"
   ]
  },
  {
   "cell_type": "code",
   "execution_count": 0,
   "metadata": {
    "colab": {},
    "colab_type": "code",
    "id": "VZ9eq7FQ4Abn"
   },
   "outputs": [],
   "source": []
  },
  {
   "cell_type": "markdown",
   "metadata": {
    "colab_type": "text",
    "id": "FEYxxUILxZ5l"
   },
   "source": [
    "# Image Preprocessing\n",
    "\n"
   ]
  },
  {
   "cell_type": "code",
   "execution_count": 1,
   "metadata": {
    "colab": {
     "base_uri": "https://localhost:8080/",
     "height": 34
    },
    "colab_type": "code",
    "id": "qp9_J3ML42DS",
    "outputId": "ac31b6cc-f9ab-4d7c-fcd9-b647b30a2f88"
   },
   "outputs": [
    {
     "name": "stderr",
     "output_type": "stream",
     "text": [
      "Using TensorFlow backend.\n"
     ]
    }
   ],
   "source": [
    "import numpy as np\n",
    "import pandas as pd\n",
    "\n",
    "import cv2 as cv\n",
    "\n",
    "from keras import datasets\n",
    "\n",
    "import tensorflow as tf\n",
    "\n",
    "from tensorflow.keras import datasets, layers, models\n",
    "from tensorflow.keras.layers import Dropout\n",
    "\n",
    "from keras import utils\n",
    "from keras.layers.normalization import BatchNormalization\n",
    "from tensorflow.keras.layers import Flatten\n",
    "from tensorflow.keras.layers import Dense\n",
    "\n",
    "import matplotlib.pyplot as plt"
   ]
  },
  {
   "cell_type": "code",
   "execution_count": 0,
   "metadata": {
    "colab": {},
    "colab_type": "code",
    "id": "Uq9dOLmrMnlA"
   },
   "outputs": [],
   "source": [
    "#Convert Images to grayScale channel=1\n",
    "def ImagePreprocessing1 (imagefile):\n",
    "    preprocessedImages = []\n",
    "    for index in range(len(imagefile)):\n",
    "        image = imagefile[index]\n",
    "        #spliting image into its channels\n",
    "        #blue, green, red = cv.split(image) \n",
    "        #Converting image into grayscale\n",
    "        imageGrayScale = cv.cvtColor(image, cv.COLOR_BGR2GRAY)\n",
    "        #Image tthreshold (#or 127)\n",
    "        r, thresh = cv.threshold(imageGrayScale,120,255,cv.THRESH_BINARY)\n",
    "        #ret, thresh = cv.threshold(imgray, 127, 255, 0)\n",
    "        #Draw contours\n",
    "        contours, hierarchy = cv.findContours(thresh, cv.RETR_TREE, cv.CHAIN_APPROX_SIMPLE)\n",
    "\n",
    "        value = 0\n",
    "        Contour = None\n",
    "        for contour in contours: \n",
    "            x,y,w,h = cv.boundingRect(contour)\n",
    "            if max(w,h) > value:\n",
    "              value = max(w,h)\n",
    "              Contour = contour\n",
    "\n",
    "        (x,y,w,h) = cv.boundingRect(Contour)\n",
    "        preprocessedImage = np.zeros((32,32))\n",
    "        preprocessedImage[y:y+h+1,x:x+w+1] = thresh[y:y+h+1,x:x+w+1]\n",
    "        preprocessedImages.append(preprocessedImage)\n",
    "        Images_Array = np.array(preprocessedImages)\n",
    "\n",
    "    return Images_Array"
   ]
  },
  {
   "cell_type": "code",
   "execution_count": 3,
   "metadata": {
    "colab": {
     "base_uri": "https://localhost:8080/",
     "height": 185
    },
    "colab_type": "code",
    "id": "5hqDlYX9K-uO",
    "outputId": "939daf66-7310-48f1-87f5-022e12dbc489"
   },
   "outputs": [
    {
     "name": "stdout",
     "output_type": "stream",
     "text": [
      "Downloading data from https://www.cs.toronto.edu/~kriz/cifar-10-python.tar.gz\n",
      "170500096/170498071 [==============================] - 11s 0us/step\n",
      "(50000, 32, 32, 3)\n",
      "(50000, 1)\n",
      "(10000, 32, 32, 3)\n",
      "(10000, 1)\n",
      "<class 'numpy.ndarray'>\n",
      "<class 'numpy.ndarray'>\n",
      "<class 'numpy.ndarray'>\n",
      "<class 'numpy.ndarray'>\n"
     ]
    }
   ],
   "source": [
    "# Download and prepare the dataset\n",
    "(training_images, train_labels), (test_images, test_labels) = datasets.cifar10.load_data()\n",
    "#file Shapes\n",
    "print(training_images.shape)\n",
    "print(train_labels.shape)\n",
    "print(test_images.shape)\n",
    "print(test_labels.shape)\n",
    "#file Types\n",
    "print(type(training_images))\n",
    "print(type(train_labels))\n",
    "print(type(test_images))\n",
    "print(type(test_labels))"
   ]
  },
  {
   "cell_type": "code",
   "execution_count": 4,
   "metadata": {
    "colab": {
     "base_uri": "https://localhost:8080/",
     "height": 84
    },
    "colab_type": "code",
    "id": "5Bw6dxecqsak",
    "outputId": "e1721e62-e1a7-4bd1-e31e-c13e7a7b9688"
   },
   "outputs": [
    {
     "name": "stdout",
     "output_type": "stream",
     "text": [
      "(50000, 32, 32, 3)\n",
      "(10000, 32, 32, 3)\n",
      "(50000, 10)\n",
      "(10000, 10)\n"
     ]
    }
   ],
   "source": [
    "#Training Dataset\n",
    "#Gray Images\n",
    "#Image preprocessing,normalization, one hot encoding labels, and data spliting for validation and training\n",
    "\n",
    "#Friday: Only simple preprocessing no color is used, no test is implemented yet.\n",
    "\n",
    "#1. Image preprocess\n",
    "#train_images = ImagePreprocessing1 (training_images)\n",
    "#test_imagess = ImagePreprocessing1 (test_images)\n",
    "\n",
    "#2. Image reshape to width hight pixel\n",
    "train_images_x = training_images.reshape(training_images.shape[0], 32, 32, 3).astype('float32')\n",
    "test_images_x = test_images.reshape(test_images.shape[0], 32, 32, 3).astype('float32') \n",
    "print (train_images_x.shape)\n",
    "print (test_images_x.shape)\n",
    "\n",
    "#3. one hot encoding for labels\n",
    "#train_y = train_labels.astype('float32')\n",
    "#test_y = test_labels.astype('float32') \n",
    "train_y = utils.to_categorical(train_labels, num_classes=None, dtype='float32')\n",
    "print (train_y.shape)\n",
    "test_y = utils.to_categorical(test_labels, num_classes=None, dtype='float32')\n",
    "print (test_y.shape)\n",
    "\n",
    "#4. Data normalization for pixels to be between 0 and 1\n",
    "train_x_images= train_images_x/255.0\n",
    "test_x_images= test_images_x/255.0\n",
    "\n",
    "#5. Data Spliting\n",
    "#train_X = train_x_images[:25000]\n",
    "#valid_x = train_x_images[25000:]\n",
    "#y_train = train_y[:25000]\n",
    "#y_valid = train_y[25000:]\n"
   ]
  },
  {
   "cell_type": "markdown",
   "metadata": {
    "colab_type": "text",
    "id": "GSfVQD9EIuED"
   },
   "source": [
    "#Model Implementation\n",
    "## Model 1: CNN\n"
   ]
  },
  {
   "cell_type": "markdown",
   "metadata": {
    "colab_type": "text",
    "id": "_pTsAxL9z0vu"
   },
   "source": [
    "#Data Augumentation "
   ]
  },
  {
   "cell_type": "code",
   "execution_count": 0,
   "metadata": {
    "colab": {},
    "colab_type": "code",
    "id": "aY3-lrfKyz4u"
   },
   "outputs": [],
   "source": [
    "from keras.preprocessing.image import ImageDataGenerator\n",
    "from keras.callbacks import LearningRateScheduler"
   ]
  },
  {
   "cell_type": "code",
   "execution_count": 0,
   "metadata": {
    "colab": {},
    "colab_type": "code",
    "id": "_AeUIg8zxxNp"
   },
   "outputs": [],
   "source": [
    "#Data Augumentation \n",
    "datagen = ImageDataGenerator(\n",
    "        featurewise_center=False,  \n",
    "        samplewise_center=False, \n",
    "        featurewise_std_normalization=False, \n",
    "        samplewise_std_normalization=False,  \n",
    "        zca_whitening=False,  \n",
    "        rotation_range=15,  \n",
    "        zoom_range = 0.15,  \n",
    "        width_shift_range=0.1, \n",
    "        height_shift_range=0.1,  \n",
    "        horizontal_flip=False,  \n",
    "        vertical_flip=False)  "
   ]
  },
  {
   "cell_type": "code",
   "execution_count": 0,
   "metadata": {
    "colab": {},
    "colab_type": "code",
    "id": "UUxPNAG8zFQz"
   },
   "outputs": [],
   "source": [
    "datagen.fit(train_x_images)"
   ]
  },
  {
   "cell_type": "code",
   "execution_count": 0,
   "metadata": {
    "colab": {},
    "colab_type": "code",
    "id": "_Ugij6d213Ai"
   },
   "outputs": [],
   "source": [
    "#Data Spliting\n",
    "train_X = train_x_images[:25000]\n",
    "valid_x = train_x_images[25000:]\n",
    "y_train = train_y[:25000]\n",
    "y_valid = train_y[25000:]"
   ]
  },
  {
   "cell_type": "code",
   "execution_count": 0,
   "metadata": {
    "colab": {},
    "colab_type": "code",
    "id": "vKmMzBv99MrD"
   },
   "outputs": [],
   "source": [
    "#Without Data Augumentation\n",
    "def model ():\n",
    "  model = models.Sequential()\n",
    "  model.add(layers.Conv2D(32, kernel_size=(3, 3), strides=(1,1), activation='relu', padding='same',kernel_initializer='lecun_normal',input_shape=(32, 32, 3)))\n",
    "  model.add(layers.Conv2D(64, kernel_size=(3, 3),activation='relu',kernel_initializer='he_normal'))\n",
    "  model.add(layers.MaxPooling2D(pool_size=(2, 2), strides=(2,2)))\n",
    "  model.add(Dropout(0.20))\n",
    "  model.add(layers.Conv2D(64, kernel_size=(3, 3), strides=(1,1), activation='relu', padding='same',kernel_initializer='lecun_normal'))\n",
    "  model.add(layers.Conv2D(32, kernel_size=(3, 3),activation='relu',kernel_initializer='he_normal'))\n",
    "  model.add(layers.MaxPooling2D(pool_size=(2, 2), strides=(2,2)))\n",
    "  model.add(Dropout(0.20))\n",
    "  model.add(layers.Conv2D(128, kernel_size=(3, 3), strides=(1,1), activation='relu',padding='same',kernel_initializer='lecun_normal'))\n",
    "  model.add(Flatten())\n",
    "  model.add(Dense(256, activation='relu'))\n",
    "  model.add(Dense(50, activation='relu'))\n",
    "  model.add(Dropout(0.25))\n",
    "  model.add(layers.Dense(10, activation='softmax'))\n",
    "  model.compile(loss='categorical_crossentropy', optimizer='adam', metrics=['accuracy'])\n",
    "  return model\n"
   ]
  },
  {
   "cell_type": "code",
   "execution_count": 0,
   "metadata": {
    "colab": {},
    "colab_type": "code",
    "id": "IRcc3ZU-WMfW"
   },
   "outputs": [],
   "source": [
    "#Implement the model\n",
    "model = model()\n"
   ]
  },
  {
   "cell_type": "code",
   "execution_count": 11,
   "metadata": {
    "colab": {
     "base_uri": "https://localhost:8080/",
     "height": 622
    },
    "colab_type": "code",
    "id": "5Xncmz6j84qO",
    "outputId": "3b90ecb1-b9bb-4c6b-8e18-72461afcd931"
   },
   "outputs": [
    {
     "name": "stdout",
     "output_type": "stream",
     "text": [
      "Model: \"sequential\"\n",
      "_________________________________________________________________\n",
      "Layer (type)                 Output Shape              Param #   \n",
      "=================================================================\n",
      "conv2d (Conv2D)              (None, 32, 32, 32)        896       \n",
      "_________________________________________________________________\n",
      "conv2d_1 (Conv2D)            (None, 30, 30, 64)        18496     \n",
      "_________________________________________________________________\n",
      "max_pooling2d (MaxPooling2D) (None, 15, 15, 64)        0         \n",
      "_________________________________________________________________\n",
      "dropout (Dropout)            (None, 15, 15, 64)        0         \n",
      "_________________________________________________________________\n",
      "conv2d_2 (Conv2D)            (None, 15, 15, 64)        36928     \n",
      "_________________________________________________________________\n",
      "conv2d_3 (Conv2D)            (None, 13, 13, 32)        18464     \n",
      "_________________________________________________________________\n",
      "max_pooling2d_1 (MaxPooling2 (None, 6, 6, 32)          0         \n",
      "_________________________________________________________________\n",
      "dropout_1 (Dropout)          (None, 6, 6, 32)          0         \n",
      "_________________________________________________________________\n",
      "conv2d_4 (Conv2D)            (None, 6, 6, 128)         36992     \n",
      "_________________________________________________________________\n",
      "flatten (Flatten)            (None, 4608)              0         \n",
      "_________________________________________________________________\n",
      "dense (Dense)                (None, 256)               1179904   \n",
      "_________________________________________________________________\n",
      "dense_1 (Dense)              (None, 50)                12850     \n",
      "_________________________________________________________________\n",
      "dropout_2 (Dropout)          (None, 50)                0         \n",
      "_________________________________________________________________\n",
      "dense_2 (Dense)              (None, 10)                510       \n",
      "=================================================================\n",
      "Total params: 1,305,040\n",
      "Trainable params: 1,305,040\n",
      "Non-trainable params: 0\n",
      "_________________________________________________________________\n"
     ]
    }
   ],
   "source": [
    "model.summary()"
   ]
  },
  {
   "cell_type": "markdown",
   "metadata": {
    "colab_type": "text",
    "id": "N4M-nnXiagqu"
   },
   "source": [
    "#Model: CNN-3"
   ]
  },
  {
   "cell_type": "code",
   "execution_count": 12,
   "metadata": {
    "colab": {
     "base_uri": "https://localhost:8080/",
     "height": 1000
    },
    "colab_type": "code",
    "id": "LNyRIwO92T2x",
    "outputId": "be907736-6b51-4b2b-b8ef-a777e08549d9"
   },
   "outputs": [
    {
     "name": "stdout",
     "output_type": "stream",
     "text": [
      "WARNING:tensorflow:From <ipython-input-12-6835485331ed>:2: Model.fit_generator (from tensorflow.python.keras.engine.training) is deprecated and will be removed in a future version.\n",
      "Instructions for updating:\n",
      "Please use Model.fit, which supports generators.\n",
      "Epoch 1/125\n",
      "390/390 [==============================] - 105s 270ms/step - loss: 1.9185 - accuracy: 0.2875 - val_loss: 1.5065 - val_accuracy: 0.4486\n",
      "Epoch 2/125\n",
      "390/390 [==============================] - 106s 271ms/step - loss: 1.5851 - accuracy: 0.4245 - val_loss: 1.4834 - val_accuracy: 0.4827\n",
      "Epoch 3/125\n",
      "390/390 [==============================] - 105s 269ms/step - loss: 1.4240 - accuracy: 0.4877 - val_loss: 1.1814 - val_accuracy: 0.5720\n",
      "Epoch 4/125\n",
      "390/390 [==============================] - 106s 271ms/step - loss: 1.3072 - accuracy: 0.5377 - val_loss: 1.1482 - val_accuracy: 0.5922\n",
      "Epoch 5/125\n",
      "390/390 [==============================] - 106s 271ms/step - loss: 1.2322 - accuracy: 0.5629 - val_loss: 1.0908 - val_accuracy: 0.6094\n",
      "Epoch 6/125\n",
      "390/390 [==============================] - 105s 270ms/step - loss: 1.1696 - accuracy: 0.5893 - val_loss: 1.1975 - val_accuracy: 0.5913\n",
      "Epoch 7/125\n",
      "390/390 [==============================] - 105s 270ms/step - loss: 1.1099 - accuracy: 0.6154 - val_loss: 1.0531 - val_accuracy: 0.6353\n",
      "Epoch 8/125\n",
      "390/390 [==============================] - 105s 269ms/step - loss: 1.0585 - accuracy: 0.6302 - val_loss: 0.9605 - val_accuracy: 0.6600\n",
      "Epoch 9/125\n",
      "390/390 [==============================] - 105s 269ms/step - loss: 1.0241 - accuracy: 0.6406 - val_loss: 0.9200 - val_accuracy: 0.6746\n",
      "Epoch 10/125\n",
      "390/390 [==============================] - 105s 270ms/step - loss: 0.9893 - accuracy: 0.6578 - val_loss: 0.9698 - val_accuracy: 0.6688\n",
      "Epoch 11/125\n",
      "390/390 [==============================] - 105s 270ms/step - loss: 0.9610 - accuracy: 0.6682 - val_loss: 0.9361 - val_accuracy: 0.6868\n",
      "Epoch 12/125\n",
      "390/390 [==============================] - 105s 269ms/step - loss: 0.9322 - accuracy: 0.6799 - val_loss: 1.0126 - val_accuracy: 0.6614\n",
      "Epoch 13/125\n",
      "390/390 [==============================] - 106s 272ms/step - loss: 0.8983 - accuracy: 0.6905 - val_loss: 0.9037 - val_accuracy: 0.6982\n",
      "Epoch 14/125\n",
      "390/390 [==============================] - 106s 272ms/step - loss: 0.8775 - accuracy: 0.6959 - val_loss: 0.8224 - val_accuracy: 0.7154\n",
      "Epoch 15/125\n",
      "390/390 [==============================] - 106s 271ms/step - loss: 0.8469 - accuracy: 0.7074 - val_loss: 0.8553 - val_accuracy: 0.7087\n",
      "Epoch 16/125\n",
      "390/390 [==============================] - 106s 271ms/step - loss: 0.8358 - accuracy: 0.7097 - val_loss: 0.8558 - val_accuracy: 0.7079\n",
      "Epoch 17/125\n",
      "390/390 [==============================] - 105s 269ms/step - loss: 0.8323 - accuracy: 0.7110 - val_loss: 0.8167 - val_accuracy: 0.7186\n",
      "Epoch 18/125\n",
      "390/390 [==============================] - 106s 271ms/step - loss: 0.7997 - accuracy: 0.7184 - val_loss: 0.8022 - val_accuracy: 0.7294\n",
      "Epoch 19/125\n",
      "390/390 [==============================] - 106s 272ms/step - loss: 0.7880 - accuracy: 0.7279 - val_loss: 0.7427 - val_accuracy: 0.7468\n",
      "Epoch 20/125\n",
      "390/390 [==============================] - 106s 272ms/step - loss: 0.7721 - accuracy: 0.7332 - val_loss: 0.8406 - val_accuracy: 0.7218\n",
      "Epoch 21/125\n",
      "390/390 [==============================] - 106s 271ms/step - loss: 0.7641 - accuracy: 0.7342 - val_loss: 0.8186 - val_accuracy: 0.7244\n",
      "Epoch 22/125\n",
      "390/390 [==============================] - 107s 273ms/step - loss: 0.7488 - accuracy: 0.7411 - val_loss: 0.7284 - val_accuracy: 0.7530\n",
      "Epoch 23/125\n",
      "390/390 [==============================] - 106s 272ms/step - loss: 0.7330 - accuracy: 0.7488 - val_loss: 0.7871 - val_accuracy: 0.7407\n",
      "Epoch 24/125\n",
      "390/390 [==============================] - 106s 271ms/step - loss: 0.7271 - accuracy: 0.7504 - val_loss: 0.7967 - val_accuracy: 0.7348\n",
      "Epoch 25/125\n",
      "390/390 [==============================] - 110s 283ms/step - loss: 0.7170 - accuracy: 0.7545 - val_loss: 0.7641 - val_accuracy: 0.7444\n",
      "Epoch 26/125\n",
      "390/390 [==============================] - 107s 273ms/step - loss: 0.7101 - accuracy: 0.7559 - val_loss: 0.7558 - val_accuracy: 0.7454\n",
      "Epoch 27/125\n",
      "390/390 [==============================] - 106s 271ms/step - loss: 0.6873 - accuracy: 0.7614 - val_loss: 0.8017 - val_accuracy: 0.7389\n",
      "Epoch 28/125\n",
      "390/390 [==============================] - 107s 276ms/step - loss: 0.6835 - accuracy: 0.7651 - val_loss: 0.7789 - val_accuracy: 0.7477\n",
      "Epoch 29/125\n",
      "390/390 [==============================] - 106s 272ms/step - loss: 0.6777 - accuracy: 0.7656 - val_loss: 0.7402 - val_accuracy: 0.7534\n",
      "Epoch 30/125\n",
      "390/390 [==============================] - 106s 273ms/step - loss: 0.6827 - accuracy: 0.7640 - val_loss: 0.7731 - val_accuracy: 0.7491\n",
      "Epoch 31/125\n",
      "390/390 [==============================] - 112s 286ms/step - loss: 0.6562 - accuracy: 0.7702 - val_loss: 0.8952 - val_accuracy: 0.7184\n",
      "Epoch 32/125\n",
      "390/390 [==============================] - 107s 274ms/step - loss: 0.6427 - accuracy: 0.7776 - val_loss: 0.7408 - val_accuracy: 0.7553\n",
      "Epoch 33/125\n",
      "390/390 [==============================] - 107s 274ms/step - loss: 0.6432 - accuracy: 0.7782 - val_loss: 0.7440 - val_accuracy: 0.7589\n",
      "Epoch 34/125\n",
      "390/390 [==============================] - 107s 275ms/step - loss: 0.6511 - accuracy: 0.7765 - val_loss: 0.7639 - val_accuracy: 0.7541\n",
      "Epoch 35/125\n",
      "390/390 [==============================] - 107s 275ms/step - loss: 0.6267 - accuracy: 0.7846 - val_loss: 0.7557 - val_accuracy: 0.7554\n",
      "Epoch 36/125\n",
      "390/390 [==============================] - 107s 275ms/step - loss: 0.6306 - accuracy: 0.7843 - val_loss: 0.8439 - val_accuracy: 0.7356\n",
      "Epoch 37/125\n",
      "390/390 [==============================] - 107s 273ms/step - loss: 0.6152 - accuracy: 0.7885 - val_loss: 0.7015 - val_accuracy: 0.7720\n",
      "Epoch 38/125\n",
      "390/390 [==============================] - 106s 272ms/step - loss: 0.6171 - accuracy: 0.7890 - val_loss: 0.7800 - val_accuracy: 0.7511\n",
      "Epoch 39/125\n",
      "390/390 [==============================] - 107s 274ms/step - loss: 0.6068 - accuracy: 0.7885 - val_loss: 0.8063 - val_accuracy: 0.7514\n",
      "Epoch 40/125\n",
      "390/390 [==============================] - 106s 273ms/step - loss: 0.6094 - accuracy: 0.7910 - val_loss: 0.7127 - val_accuracy: 0.7724\n",
      "Epoch 41/125\n",
      "390/390 [==============================] - 106s 273ms/step - loss: 0.5941 - accuracy: 0.7946 - val_loss: 0.7329 - val_accuracy: 0.7644\n",
      "Epoch 42/125\n",
      "390/390 [==============================] - 107s 274ms/step - loss: 0.5925 - accuracy: 0.7942 - val_loss: 0.7512 - val_accuracy: 0.7596\n",
      "Epoch 43/125\n",
      "390/390 [==============================] - 108s 276ms/step - loss: 0.5943 - accuracy: 0.7950 - val_loss: 0.6933 - val_accuracy: 0.7777\n",
      "Epoch 44/125\n",
      "390/390 [==============================] - 107s 273ms/step - loss: 0.5854 - accuracy: 0.7994 - val_loss: 0.7851 - val_accuracy: 0.7618\n",
      "Epoch 45/125\n",
      "390/390 [==============================] - 107s 274ms/step - loss: 0.5816 - accuracy: 0.8003 - val_loss: 0.8478 - val_accuracy: 0.7453\n",
      "Epoch 46/125\n",
      "390/390 [==============================] - 106s 271ms/step - loss: 0.5724 - accuracy: 0.8037 - val_loss: 0.7580 - val_accuracy: 0.7651\n",
      "Epoch 47/125\n",
      "390/390 [==============================] - 106s 273ms/step - loss: 0.5666 - accuracy: 0.8056 - val_loss: 0.7316 - val_accuracy: 0.7708\n",
      "Epoch 48/125\n",
      "390/390 [==============================] - 107s 274ms/step - loss: 0.5670 - accuracy: 0.8035 - val_loss: 0.7507 - val_accuracy: 0.7655\n",
      "Epoch 49/125\n",
      "390/390 [==============================] - 107s 273ms/step - loss: 0.5516 - accuracy: 0.8092 - val_loss: 0.7684 - val_accuracy: 0.7622\n",
      "Epoch 50/125\n",
      "390/390 [==============================] - 107s 274ms/step - loss: 0.5590 - accuracy: 0.8072 - val_loss: 0.6857 - val_accuracy: 0.7831\n",
      "Epoch 51/125\n",
      "390/390 [==============================] - 108s 278ms/step - loss: 0.5420 - accuracy: 0.8149 - val_loss: 0.7711 - val_accuracy: 0.7671\n",
      "Epoch 52/125\n",
      "390/390 [==============================] - 109s 279ms/step - loss: 0.5417 - accuracy: 0.8088 - val_loss: 0.8177 - val_accuracy: 0.7647\n",
      "Epoch 53/125\n",
      "390/390 [==============================] - 108s 276ms/step - loss: 0.5439 - accuracy: 0.8135 - val_loss: 0.7311 - val_accuracy: 0.7727\n",
      "Epoch 54/125\n",
      "390/390 [==============================] - 108s 276ms/step - loss: 0.5286 - accuracy: 0.8178 - val_loss: 0.7066 - val_accuracy: 0.7813\n",
      "Epoch 55/125\n",
      "390/390 [==============================] - 107s 274ms/step - loss: 0.5362 - accuracy: 0.8169 - val_loss: 0.7727 - val_accuracy: 0.7680\n",
      "Epoch 56/125\n",
      "390/390 [==============================] - 107s 274ms/step - loss: 0.5322 - accuracy: 0.8162 - val_loss: 0.6964 - val_accuracy: 0.7790\n",
      "Epoch 57/125\n",
      "390/390 [==============================] - 106s 273ms/step - loss: 0.5155 - accuracy: 0.8223 - val_loss: 0.7357 - val_accuracy: 0.7777\n",
      "Epoch 58/125\n",
      "390/390 [==============================] - 110s 282ms/step - loss: 0.5191 - accuracy: 0.8226 - val_loss: 0.7025 - val_accuracy: 0.7832\n",
      "Epoch 59/125\n",
      "390/390 [==============================] - 107s 274ms/step - loss: 0.5061 - accuracy: 0.8275 - val_loss: 0.7478 - val_accuracy: 0.7760\n",
      "Epoch 60/125\n",
      "390/390 [==============================] - 107s 276ms/step - loss: 0.5214 - accuracy: 0.8220 - val_loss: 0.7315 - val_accuracy: 0.7796\n",
      "Epoch 61/125\n",
      "390/390 [==============================] - 107s 274ms/step - loss: 0.5023 - accuracy: 0.8242 - val_loss: 0.7259 - val_accuracy: 0.7805\n",
      "Epoch 62/125\n",
      "390/390 [==============================] - 107s 275ms/step - loss: 0.4971 - accuracy: 0.8274 - val_loss: 0.8815 - val_accuracy: 0.7534\n",
      "Epoch 63/125\n",
      "390/390 [==============================] - 108s 276ms/step - loss: 0.5026 - accuracy: 0.8280 - val_loss: 0.7436 - val_accuracy: 0.7792\n",
      "Epoch 64/125\n",
      "390/390 [==============================] - 112s 286ms/step - loss: 0.4947 - accuracy: 0.8282 - val_loss: 0.8981 - val_accuracy: 0.7527\n",
      "Epoch 65/125\n",
      "390/390 [==============================] - 108s 276ms/step - loss: 0.5012 - accuracy: 0.8300 - val_loss: 0.7585 - val_accuracy: 0.7732\n",
      "Epoch 66/125\n",
      "390/390 [==============================] - 107s 274ms/step - loss: 0.4897 - accuracy: 0.8328 - val_loss: 0.7609 - val_accuracy: 0.7772\n",
      "Epoch 67/125\n",
      "390/390 [==============================] - 107s 273ms/step - loss: 0.4842 - accuracy: 0.8323 - val_loss: 0.7239 - val_accuracy: 0.7858\n",
      "Epoch 68/125\n",
      "390/390 [==============================] - 107s 275ms/step - loss: 0.4894 - accuracy: 0.8335 - val_loss: 0.7347 - val_accuracy: 0.7861\n",
      "Epoch 69/125\n",
      "390/390 [==============================] - 108s 277ms/step - loss: 0.4809 - accuracy: 0.8368 - val_loss: 0.7977 - val_accuracy: 0.7699\n",
      "Epoch 70/125\n",
      "390/390 [==============================] - 111s 285ms/step - loss: 0.4670 - accuracy: 0.8373 - val_loss: 0.7913 - val_accuracy: 0.7696\n",
      "Epoch 71/125\n",
      "390/390 [==============================] - 107s 275ms/step - loss: 0.4714 - accuracy: 0.8392 - val_loss: 0.7336 - val_accuracy: 0.7854\n",
      "Epoch 72/125\n",
      "390/390 [==============================] - 107s 273ms/step - loss: 0.4687 - accuracy: 0.8378 - val_loss: 0.7304 - val_accuracy: 0.7868\n",
      "Epoch 73/125\n",
      "390/390 [==============================] - 109s 280ms/step - loss: 0.4695 - accuracy: 0.8406 - val_loss: 0.8232 - val_accuracy: 0.7617\n",
      "Epoch 74/125\n",
      "390/390 [==============================] - 107s 275ms/step - loss: 0.4610 - accuracy: 0.8422 - val_loss: 0.8259 - val_accuracy: 0.7674\n",
      "Epoch 75/125\n",
      "390/390 [==============================] - 106s 272ms/step - loss: 0.4566 - accuracy: 0.8444 - val_loss: 0.7426 - val_accuracy: 0.7860\n",
      "Epoch 76/125\n",
      "390/390 [==============================] - 110s 282ms/step - loss: 0.4664 - accuracy: 0.8404 - val_loss: 0.8008 - val_accuracy: 0.7722\n",
      "Epoch 77/125\n",
      "390/390 [==============================] - 107s 274ms/step - loss: 0.4621 - accuracy: 0.8417 - val_loss: 0.7422 - val_accuracy: 0.7839\n",
      "Epoch 78/125\n",
      "390/390 [==============================] - 106s 272ms/step - loss: 0.4560 - accuracy: 0.8463 - val_loss: 0.7049 - val_accuracy: 0.7912\n",
      "Epoch 79/125\n",
      "390/390 [==============================] - 106s 273ms/step - loss: 0.4511 - accuracy: 0.8432 - val_loss: 0.6997 - val_accuracy: 0.7893\n",
      "Epoch 80/125\n",
      "390/390 [==============================] - 106s 273ms/step - loss: 0.4445 - accuracy: 0.8470 - val_loss: 0.7576 - val_accuracy: 0.7852\n",
      "Epoch 81/125\n",
      "390/390 [==============================] - 107s 274ms/step - loss: 0.4463 - accuracy: 0.8468 - val_loss: 0.7898 - val_accuracy: 0.7760\n",
      "Epoch 82/125\n",
      "390/390 [==============================] - 107s 273ms/step - loss: 0.4458 - accuracy: 0.8469 - val_loss: 0.8159 - val_accuracy: 0.7752\n",
      "Epoch 83/125\n",
      "390/390 [==============================] - 106s 273ms/step - loss: 0.4391 - accuracy: 0.8499 - val_loss: 0.7418 - val_accuracy: 0.7858\n",
      "Epoch 84/125\n",
      "390/390 [==============================] - 106s 271ms/step - loss: 0.4332 - accuracy: 0.8495 - val_loss: 0.7306 - val_accuracy: 0.7879\n",
      "Epoch 85/125\n",
      "390/390 [==============================] - 106s 272ms/step - loss: 0.4342 - accuracy: 0.8491 - val_loss: 0.7899 - val_accuracy: 0.7818\n",
      "Epoch 86/125\n",
      "390/390 [==============================] - 108s 278ms/step - loss: 0.4202 - accuracy: 0.8574 - val_loss: 0.9250 - val_accuracy: 0.7557\n",
      "Epoch 87/125\n",
      "390/390 [==============================] - 105s 270ms/step - loss: 0.4315 - accuracy: 0.8521 - val_loss: 0.8205 - val_accuracy: 0.7728\n",
      "Epoch 88/125\n",
      "390/390 [==============================] - 110s 281ms/step - loss: 0.4358 - accuracy: 0.8512 - val_loss: 0.7993 - val_accuracy: 0.7842\n",
      "Epoch 89/125\n",
      "390/390 [==============================] - 106s 273ms/step - loss: 0.4235 - accuracy: 0.8557 - val_loss: 0.8928 - val_accuracy: 0.7664\n",
      "Epoch 90/125\n",
      "390/390 [==============================] - 107s 274ms/step - loss: 0.4149 - accuracy: 0.8583 - val_loss: 0.7358 - val_accuracy: 0.7906\n",
      "Epoch 91/125\n",
      "390/390 [==============================] - 107s 273ms/step - loss: 0.4199 - accuracy: 0.8549 - val_loss: 0.7650 - val_accuracy: 0.7877\n",
      "Epoch 92/125\n",
      "390/390 [==============================] - 106s 272ms/step - loss: 0.4191 - accuracy: 0.8584 - val_loss: 0.7515 - val_accuracy: 0.7888\n",
      "Epoch 93/125\n",
      "390/390 [==============================] - 107s 273ms/step - loss: 0.4189 - accuracy: 0.8570 - val_loss: 0.7857 - val_accuracy: 0.7832\n",
      "Epoch 94/125\n",
      "390/390 [==============================] - 111s 285ms/step - loss: 0.4090 - accuracy: 0.8607 - val_loss: 0.7440 - val_accuracy: 0.7861\n",
      "Epoch 95/125\n",
      "390/390 [==============================] - 107s 274ms/step - loss: 0.4070 - accuracy: 0.8632 - val_loss: 0.8328 - val_accuracy: 0.7836\n",
      "Epoch 96/125\n",
      "390/390 [==============================] - 106s 271ms/step - loss: 0.4104 - accuracy: 0.8606 - val_loss: 0.7572 - val_accuracy: 0.7902\n",
      "Epoch 97/125\n",
      "390/390 [==============================] - 106s 271ms/step - loss: 0.4087 - accuracy: 0.8598 - val_loss: 0.7777 - val_accuracy: 0.7885\n",
      "Epoch 98/125\n",
      "390/390 [==============================] - 105s 270ms/step - loss: 0.4003 - accuracy: 0.8638 - val_loss: 0.7562 - val_accuracy: 0.7916\n",
      "Epoch 99/125\n",
      "390/390 [==============================] - 106s 271ms/step - loss: 0.4059 - accuracy: 0.8608 - val_loss: 0.8031 - val_accuracy: 0.7817\n",
      "Epoch 100/125\n",
      "390/390 [==============================] - 106s 271ms/step - loss: 0.4069 - accuracy: 0.8637 - val_loss: 0.7847 - val_accuracy: 0.7816\n",
      "Epoch 101/125\n",
      "390/390 [==============================] - 105s 270ms/step - loss: 0.4040 - accuracy: 0.8608 - val_loss: 0.8327 - val_accuracy: 0.7764\n",
      "Epoch 102/125\n",
      "390/390 [==============================] - 106s 271ms/step - loss: 0.4026 - accuracy: 0.8635 - val_loss: 0.7660 - val_accuracy: 0.7915\n",
      "Epoch 103/125\n",
      "390/390 [==============================] - 106s 271ms/step - loss: 0.3999 - accuracy: 0.8643 - val_loss: 0.8175 - val_accuracy: 0.7804\n",
      "Epoch 104/125\n",
      "390/390 [==============================] - 106s 273ms/step - loss: 0.3940 - accuracy: 0.8645 - val_loss: 0.7504 - val_accuracy: 0.7956\n",
      "Epoch 105/125\n",
      "390/390 [==============================] - 106s 272ms/step - loss: 0.3914 - accuracy: 0.8670 - val_loss: 0.7817 - val_accuracy: 0.7870\n",
      "Epoch 106/125\n",
      "390/390 [==============================] - 106s 272ms/step - loss: 0.3845 - accuracy: 0.8680 - val_loss: 0.7991 - val_accuracy: 0.7769\n",
      "Epoch 107/125\n",
      "390/390 [==============================] - 106s 272ms/step - loss: 0.3960 - accuracy: 0.8665 - val_loss: 0.7660 - val_accuracy: 0.7969\n",
      "Epoch 108/125\n",
      "390/390 [==============================] - 106s 272ms/step - loss: 0.3786 - accuracy: 0.8720 - val_loss: 0.8421 - val_accuracy: 0.7859\n",
      "Epoch 109/125\n",
      "390/390 [==============================] - 106s 272ms/step - loss: 0.3825 - accuracy: 0.8703 - val_loss: 0.7851 - val_accuracy: 0.7898\n",
      "Epoch 110/125\n",
      "390/390 [==============================] - 106s 271ms/step - loss: 0.3782 - accuracy: 0.8705 - val_loss: 0.7750 - val_accuracy: 0.7882\n",
      "Epoch 111/125\n",
      "390/390 [==============================] - 106s 272ms/step - loss: 0.3822 - accuracy: 0.8708 - val_loss: 0.8347 - val_accuracy: 0.7750\n",
      "Epoch 112/125\n",
      "390/390 [==============================] - 107s 275ms/step - loss: 0.3895 - accuracy: 0.8669 - val_loss: 0.7931 - val_accuracy: 0.7849\n",
      "Epoch 113/125\n",
      "390/390 [==============================] - 107s 273ms/step - loss: 0.3718 - accuracy: 0.8748 - val_loss: 0.8353 - val_accuracy: 0.7799\n",
      "Epoch 114/125\n",
      "390/390 [==============================] - 109s 281ms/step - loss: 0.3690 - accuracy: 0.8714 - val_loss: 0.8413 - val_accuracy: 0.7854\n",
      "Epoch 115/125\n",
      "390/390 [==============================] - 107s 273ms/step - loss: 0.3805 - accuracy: 0.8687 - val_loss: 1.0328 - val_accuracy: 0.7545\n",
      "Epoch 116/125\n",
      "390/390 [==============================] - 107s 274ms/step - loss: 0.3635 - accuracy: 0.8774 - val_loss: 0.9798 - val_accuracy: 0.7640\n",
      "Epoch 117/125\n",
      "390/390 [==============================] - 107s 274ms/step - loss: 0.3782 - accuracy: 0.8701 - val_loss: 0.7882 - val_accuracy: 0.7912\n",
      "Epoch 118/125\n",
      "390/390 [==============================] - 107s 274ms/step - loss: 0.3612 - accuracy: 0.8787 - val_loss: 0.7782 - val_accuracy: 0.7979\n",
      "Epoch 119/125\n",
      "390/390 [==============================] - 107s 275ms/step - loss: 0.3696 - accuracy: 0.8751 - val_loss: 0.7861 - val_accuracy: 0.7895\n",
      "Epoch 120/125\n",
      "390/390 [==============================] - 110s 281ms/step - loss: 0.3676 - accuracy: 0.8744 - val_loss: 0.8175 - val_accuracy: 0.7917\n",
      "Epoch 121/125\n",
      "390/390 [==============================] - 107s 274ms/step - loss: 0.3711 - accuracy: 0.8736 - val_loss: 0.8258 - val_accuracy: 0.7849\n",
      "Epoch 122/125\n",
      "390/390 [==============================] - 106s 272ms/step - loss: 0.3728 - accuracy: 0.8733 - val_loss: 0.8044 - val_accuracy: 0.7859\n",
      "Epoch 123/125\n",
      "390/390 [==============================] - 106s 272ms/step - loss: 0.3496 - accuracy: 0.8795 - val_loss: 0.8386 - val_accuracy: 0.7876\n",
      "Epoch 124/125\n",
      "390/390 [==============================] - 107s 273ms/step - loss: 0.3672 - accuracy: 0.8775 - val_loss: 0.8451 - val_accuracy: 0.7761\n",
      "Epoch 125/125\n",
      "390/390 [==============================] - 106s 273ms/step - loss: 0.3636 - accuracy: 0.8770 - val_loss: 0.7696 - val_accuracy: 0.7903\n"
     ]
    }
   ],
   "source": [
    "#Model: CNN-3\n",
    "#Data Spliting (Data Augumentation)\n",
    "batch_size = 64\n",
    "model_Reg = model.fit_generator(datagen.flow(train_X, y_train, batch_size=batch_size),\\\n",
    "                    steps_per_epoch=train_X.shape[0] // batch_size,epochs=125,\\\n",
    "                    verbose=1,validation_data=(valid_x,y_valid))\n"
   ]
  },
  {
   "cell_type": "code",
   "execution_count": 13,
   "metadata": {
    "colab": {
     "base_uri": "https://localhost:8080/",
     "height": 50
    },
    "colab_type": "code",
    "id": "4LBfpLRtvgun",
    "outputId": "aee3bbdb-b892-4d33-88e1-6f4f17a6818a"
   },
   "outputs": [
    {
     "name": "stdout",
     "output_type": "stream",
     "text": [
      "313/313 [==============================] - 8s 25ms/step - loss: 0.7968 - accuracy: 0.7911\n",
      "Prediction: 79.11%\n"
     ]
    }
   ],
   "source": [
    "#Model: CNN-3\n",
    "#model evaluate with Data Augumentation. \n",
    "scores = model.evaluate(test_x_images, test_y,verbose=1)\n",
    "print(\"Prediction: %.2f%%\" % (scores[1]*100))"
   ]
  },
  {
   "cell_type": "code",
   "execution_count": 14,
   "metadata": {
    "colab": {
     "base_uri": "https://localhost:8080/",
     "height": 300
    },
    "colab_type": "code",
    "id": "Srt7tCQiaGWF",
    "outputId": "7655b37a-5d5c-47b0-982a-4c3150c32e88"
   },
   "outputs": [
    {
     "data": {
      "text/plain": [
       "<matplotlib.legend.Legend at 0x7f50bc93cc50>"
      ]
     },
     "execution_count": 14,
     "metadata": {
      "tags": []
     },
     "output_type": "execute_result"
    },
    {
     "data": {
      "image/png": "[encoded data removed]",
      "text/plain": [
       "<Figure size 432x288 with 1 Axes>"
      ]
     },
     "metadata": {
      "needs_background": "light",
      "tags": []
     },
     "output_type": "display_data"
    }
   ],
   "source": [
    "plt.plot(model_Reg.history['accuracy'], label='accuracy')\n",
    "plt.plot(model_Reg.history['val_accuracy'], label = 'val_accuracy')\n",
    "plt.xlabel('Epoch')\n",
    "plt.ylabel('Accuracy')\n",
    "plt.ylim([0, 1]) #0.5,1\n",
    "plt.legend(loc='lower right')"
   ]
  },
  {
   "cell_type": "markdown",
   "metadata": {
    "colab_type": "text",
    "id": "yt5cc1cMaRRI"
   },
   "source": [
    "#Model: CNN-2"
   ]
  },
  {
   "cell_type": "code",
   "execution_count": 0,
   "metadata": {
    "colab": {},
    "colab_type": "code",
    "id": "aYkzRe0ZY94y"
   },
   "outputs": [],
   "source": [
    "#Model: CNN-2\n",
    "#Data Spliting (No Data Augumentation)\n",
    "train_X = train_x_images[:25000]\n",
    "valid_x = train_x_images[25000:]\n",
    "y_train = train_y[:25000]\n",
    "y_valid = train_y[25000:]"
   ]
  },
  {
   "cell_type": "code",
   "execution_count": 0,
   "metadata": {
    "colab": {
     "base_uri": "https://localhost:8080/",
     "height": 353
    },
    "colab_type": "code",
    "id": "pa0IoHp5-XR0",
    "outputId": "93bda360-9413-4243-f1bc-c343dc27ac7f"
   },
   "outputs": [
    {
     "name": "stdout",
     "output_type": "stream",
     "text": [
      "Epoch 1/10\n",
      "782/782 [==============================] - 188s 240ms/step - loss: 1.7717 - accuracy: 0.3474 - val_loss: 1.5410 - val_accuracy: 0.4495\n",
      "Epoch 2/10\n",
      "782/782 [==============================] - 185s 236ms/step - loss: 1.3658 - accuracy: 0.5123 - val_loss: 1.1983 - val_accuracy: 0.5681\n",
      "Epoch 3/10\n",
      "782/782 [==============================] - 186s 238ms/step - loss: 1.1548 - accuracy: 0.5932 - val_loss: 1.0390 - val_accuracy: 0.6331\n",
      "Epoch 4/10\n",
      "782/782 [==============================] - 190s 243ms/step - loss: 1.0200 - accuracy: 0.6440 - val_loss: 1.0055 - val_accuracy: 0.6505\n",
      "Epoch 5/10\n",
      "782/782 [==============================] - 186s 238ms/step - loss: 0.9214 - accuracy: 0.6844 - val_loss: 0.9167 - val_accuracy: 0.6793\n",
      "Epoch 6/10\n",
      "782/782 [==============================] - 187s 239ms/step - loss: 0.8300 - accuracy: 0.7184 - val_loss: 0.8577 - val_accuracy: 0.7038\n",
      "Epoch 7/10\n",
      "782/782 [==============================] - 187s 239ms/step - loss: 0.7659 - accuracy: 0.7385 - val_loss: 0.8261 - val_accuracy: 0.7136\n",
      "Epoch 8/10\n",
      "782/782 [==============================] - 185s 237ms/step - loss: 0.7009 - accuracy: 0.7586 - val_loss: 0.8663 - val_accuracy: 0.7108\n",
      "Epoch 9/10\n",
      "782/782 [==============================] - 187s 239ms/step - loss: 0.6498 - accuracy: 0.7758 - val_loss: 0.8739 - val_accuracy: 0.7091\n",
      "Epoch 10/10\n",
      "782/782 [==============================] - 187s 239ms/step - loss: 0.5930 - accuracy: 0.7961 - val_loss: 0.8364 - val_accuracy: 0.7223\n"
     ]
    }
   ],
   "source": [
    "#Model: CNN-2\n",
    "#Train the model (No Data Augumentation)\n",
    "#Fit the model\n",
    "CNN_Trian_Model= model.fit(train_X, y_train, epochs=10, validation_data=(valid_x, y_valid))\n"
   ]
  },
  {
   "cell_type": "code",
   "execution_count": 0,
   "metadata": {
    "colab": {
     "base_uri": "https://localhost:8080/",
     "height": 50
    },
    "colab_type": "code",
    "id": "ebaBm0rMTnrZ",
    "outputId": "39d21c6f-a4de-41c2-f088-442bf2d36913"
   },
   "outputs": [
    {
     "name": "stdout",
     "output_type": "stream",
     "text": [
      "(25000, 32, 32, 3)\n",
      "(25000, 1)\n"
     ]
    }
   ],
   "source": [
    "print(train_X.shape)\n",
    "print(y_train.shape)"
   ]
  },
  {
   "cell_type": "code",
   "execution_count": 0,
   "metadata": {
    "colab": {
     "base_uri": "https://localhost:8080/",
     "height": 300
    },
    "colab_type": "code",
    "id": "3XAHxZ4qfh8l",
    "outputId": "edfcfc67-82b4-4195-cdeb-282c276361cf"
   },
   "outputs": [
    {
     "data": {
      "text/plain": [
       "<matplotlib.legend.Legend at 0x7fb4bd62bc50>"
      ]
     },
     "execution_count": 47,
     "metadata": {
      "tags": []
     },
     "output_type": "execute_result"
    },
    {
     "data": {
      "image/png": "[encoded data removed]",
      "text/plain": [
       "<Figure size 432x288 with 1 Axes>"
      ]
     },
     "metadata": {
      "needs_background": "light",
      "tags": []
     },
     "output_type": "display_data"
    }
   ],
   "source": [
    "plt.plot(CNN_Trian_Model.history['accuracy'], label='accuracy')\n",
    "plt.plot(CNN_Trian_Model.history['val_accuracy'], label = 'val_accuracy')\n",
    "plt.xlabel('Epoch')\n",
    "plt.ylabel('Accuracy')\n",
    "plt.ylim([0, 1]) #0.5,1\n",
    "plt.legend(loc='lower right')"
   ]
  },
  {
   "cell_type": "code",
   "execution_count": 0,
   "metadata": {
    "colab": {
     "base_uri": "https://localhost:8080/",
     "height": 50
    },
    "colab_type": "code",
    "id": "qDedLmM3Wili",
    "outputId": "22cb01b9-3edc-41c2-be73-37ca604f0917"
   },
   "outputs": [
    {
     "name": "stdout",
     "output_type": "stream",
     "text": [
      "313/313 [==============================] - 15s 48ms/step - loss: 0.8500 - accuracy: 0.7206\n",
      "Prediction: 72.06%\n"
     ]
    }
   ],
   "source": [
    "#Please use Model.fit, which supports generators. (thus I wont use this)\n",
    "#Evaluate the model using test sets\n",
    "scores = model.evaluate(test_x_images, test_y,verbose=1)\n",
    "#evaluate(x=None, y=None, batch_size=None, verbose=1, sample_weight=None, steps=None, callbacks=None, max_queue_size=10, workers=1, use_multiprocessing=False)\n",
    "\n",
    "print(\"Prediction: %.2f%%\" % (scores[1]*100))"
   ]
  },
  {
   "cell_type": "markdown",
   "metadata": {
    "colab_type": "text",
    "id": "WZTxO-AXxWmS"
   },
   "source": [
    "# Model 3: GoogleNet or Inception v1\n"
   ]
  },
  {
   "cell_type": "code",
   "execution_count": 0,
   "metadata": {
    "colab": {
     "base_uri": "https://localhost:8080/",
     "height": 34
    },
    "colab_type": "code",
    "id": "gueoQkgXxaLY",
    "outputId": "63967b07-0f43-4bbb-8484-79635210c5ea"
   },
   "outputs": [
    {
     "name": "stderr",
     "output_type": "stream",
     "text": [
      "Using TensorFlow backend.\n"
     ]
    }
   ],
   "source": [
    "import keras\n",
    "from keras.layers.core import Layer\n",
    "import keras.backend as K\n",
    "import tensorflow as tf\n",
    "#from keras.datasets import cifar10\n",
    "import cv2 as cv\n",
    "import numpy as np \n",
    "from keras import datasets\n",
    "from keras import backend as K \n",
    "from keras.utils import np_utils"
   ]
  },
  {
   "cell_type": "code",
   "execution_count": 0,
   "metadata": {
    "colab": {},
    "colab_type": "code",
    "id": "4rzpe43gDeY3"
   },
   "outputs": [],
   "source": [
    "num_classes = 10\n",
    "\n",
    "def load_cifar10_data(img_rows, img_cols):\n",
    "\n",
    "    # Load cifar10 training and validation sets\n",
    "    (X_train, Y_train), (X_valid, Y_valid) = datasets.cifar10.load_data()\n",
    "\n",
    "    # Resize training images\n",
    "    X_train = np.array([cv.resize(img, (img_rows,img_cols)) for img in X_train[:,:,:,:]])\n",
    "    X_valid = np.array([cv.resize(img, (img_rows,img_cols)) for img in X_valid[:,:,:,:]])\n",
    "\n",
    "    # Transform targets to keras compatible format\n",
    "    Y_train = np_utils.to_categorical(Y_train, num_classes)\n",
    "    Y_valid = np_utils.to_categorical(Y_valid, num_classes)\n",
    "    \n",
    "    X_train = X_train.astype('float32')\n",
    "    X_valid = X_valid.astype('float32')\n",
    "\n",
    "    # preprocess data\n",
    "    X_train = X_train / 255.0\n",
    "    X_valid = X_valid / 255.0\n",
    "\n",
    "    return X_train, Y_train, X_valid, Y_valid"
   ]
  },
  {
   "cell_type": "code",
   "execution_count": 0,
   "metadata": {
    "colab": {},
    "colab_type": "code",
    "id": "JT4Qp_WMDii1"
   },
   "outputs": [],
   "source": [
    "X_train, y_train, X_valid, y_valid = load_cifar10_data(224, 224)"
   ]
  },
  {
   "cell_type": "code",
   "execution_count": 0,
   "metadata": {
    "colab": {},
    "colab_type": "code",
    "id": "Mx6H3O-bc5Nk"
   },
   "outputs": [],
   "source": [
    "# Define the architecture of GoogleNet (Deep Learning)\n",
    "def inception_module(x,\n",
    "                     filters_1x1,\n",
    "                     filters_3x3_reduce,\n",
    "                     filters_3x3,\n",
    "                     filters_5x5_reduce,\n",
    "                     filters_5x5,\n",
    "                     filters_pool_proj,\n",
    "                     name=None):\n",
    "    \n",
    "    conv_1x1 = Conv2D(filters_1x1, (1, 1), padding='same', activation='relu', kernel_initializer=kernel_init, bias_initializer=bias_init)(x)\n",
    "    \n",
    "    conv_3x3 = Conv2D(filters_3x3_reduce, (1, 1), padding='same', activation='relu', kernel_initializer=kernel_init, bias_initializer=bias_init)(x)\n",
    "    conv_3x3 = Conv2D(filters_3x3, (3, 3), padding='same', activation='relu', kernel_initializer=kernel_init, bias_initializer=bias_init)(conv_3x3)\n",
    "\n",
    "    conv_5x5 = Conv2D(filters_5x5_reduce, (1, 1), padding='same', activation='relu', kernel_initializer=kernel_init, bias_initializer=bias_init)(x)\n",
    "    conv_5x5 = Conv2D(filters_5x5, (5, 5), padding='same', activation='relu', kernel_initializer=kernel_init, bias_initializer=bias_init)(conv_5x5)\n",
    "\n",
    "    pool_proj = MaxPool2D((3, 3), strides=(1, 1), padding='same')(x)\n",
    "    pool_proj = Conv2D(filters_pool_proj, (1, 1), padding='same', activation='relu', kernel_initializer=kernel_init, bias_initializer=bias_init)(pool_proj)\n",
    "\n",
    "    output = concatenate([conv_1x1, conv_3x3, conv_5x5, pool_proj], axis=3, name=name)\n",
    "    return output"
   ]
  },
  {
   "cell_type": "code",
   "execution_count": 0,
   "metadata": {
    "colab": {
     "base_uri": "https://localhost:8080/",
     "height": 34
    },
    "colab_type": "code",
    "id": "TXBC_rz-x7UA",
    "outputId": "2cbc97e9-cc0f-47a0-b241-1de6a7979191"
   },
   "outputs": [
    {
     "name": "stderr",
     "output_type": "stream",
     "text": [
      "Using TensorFlow backend.\n"
     ]
    }
   ],
   "source": [
    "import keras\n",
    "kernel_init = keras.initializers.glorot_uniform()\n",
    "bias_init = keras.initializers.Constant(value=0.2)"
   ]
  },
  {
   "cell_type": "code",
   "execution_count": 0,
   "metadata": {
    "colab": {},
    "colab_type": "code",
    "id": "6jKcTvcYWHAx"
   },
   "outputs": [],
   "source": [
    "from keras.layers import Input\n",
    "\n",
    "input_layer = Input(shape=(224, 224, 3))"
   ]
  },
  {
   "cell_type": "code",
   "execution_count": 0,
   "metadata": {
    "colab": {},
    "colab_type": "code",
    "id": "To-FPnVKagfd"
   },
   "outputs": [],
   "source": [
    "from keras.layers import Conv2D\n",
    "from keras.layers import MaxPool2D\n",
    "from keras.layers import Dropout\n",
    "from keras.layers import Dense\n",
    "from keras.layers import Input\n",
    "from keras.layers import concatenate\n",
    "from keras.layers import GlobalAveragePooling2D\n",
    "from keras.layers import AveragePooling2D\n",
    "from keras.layers import Flatten"
   ]
  },
  {
   "cell_type": "code",
   "execution_count": 0,
   "metadata": {
    "colab": {},
    "colab_type": "code",
    "id": "q9tJzCt91c6O"
   },
   "outputs": [],
   "source": [
    "x = Conv2D(64, (7, 7), padding='same', strides=(2, 2), activation='relu', name='conv_1_7x7/2', kernel_initializer=kernel_init, bias_initializer=bias_init)(input_layer)\n",
    "x = MaxPool2D((3, 3), padding='same', strides=(2, 2), name='max_pool_1_3x3/2')(x)\n",
    "x = Conv2D(64, (1, 1), padding='same', strides=(1, 1), activation='relu', name='conv_2a_3x3/1')(x)\n",
    "x = Conv2D(192, (3, 3), padding='same', strides=(1, 1), activation='relu', name='conv_2b_3x3/1')(x)\n",
    "x = MaxPool2D((3, 3), padding='same', strides=(2, 2), name='max_pool_2_3x3/2')(x)\n",
    "\n",
    "x = inception_module(x,\n",
    "                     filters_1x1=64,\n",
    "                     filters_3x3_reduce=96,\n",
    "                     filters_3x3=128,\n",
    "                     filters_5x5_reduce=16,\n",
    "                     filters_5x5=32,\n",
    "                     filters_pool_proj=32,\n",
    "                     name='inception_3a')\n",
    "\n",
    "x = inception_module(x,\n",
    "                     filters_1x1=128,\n",
    "                     filters_3x3_reduce=128,\n",
    "                     filters_3x3=192,\n",
    "                     filters_5x5_reduce=32,\n",
    "                     filters_5x5=96,\n",
    "                     filters_pool_proj=64,\n",
    "                     name='inception_3b')\n",
    "\n",
    "x = MaxPool2D((3, 3), padding='same', strides=(2, 2), name='max_pool_3_3x3/2')(x)\n",
    "\n",
    "x = inception_module(x,\n",
    "                     filters_1x1=192,\n",
    "                     filters_3x3_reduce=96,\n",
    "                     filters_3x3=208,\n",
    "                     filters_5x5_reduce=16,\n",
    "                     filters_5x5=48,\n",
    "                     filters_pool_proj=64,\n",
    "                     name='inception_4a')\n",
    "\n",
    "\n",
    "x1 = AveragePooling2D((5, 5), strides=3)(x)\n",
    "x1 = Conv2D(128, (1, 1), padding='same', activation='relu')(x1)\n",
    "x1 = Flatten()(x1)\n",
    "x1 = Dense(1024, activation='relu')(x1)\n",
    "x1 = Dropout(0.7)(x1)\n",
    "x1 = Dense(10, activation='softmax', name='auxilliary_output_1')(x1)\n",
    "\n",
    "x = inception_module(x,\n",
    "                     filters_1x1=160,\n",
    "                     filters_3x3_reduce=112,\n",
    "                     filters_3x3=224,\n",
    "                     filters_5x5_reduce=24,\n",
    "                     filters_5x5=64,\n",
    "                     filters_pool_proj=64,\n",
    "                     name='inception_4b')\n",
    "\n",
    "x = inception_module(x,\n",
    "                     filters_1x1=128,\n",
    "                     filters_3x3_reduce=128,\n",
    "                     filters_3x3=256,\n",
    "                     filters_5x5_reduce=24,\n",
    "                     filters_5x5=64,\n",
    "                     filters_pool_proj=64,\n",
    "                     name='inception_4c')\n",
    "\n",
    "x = inception_module(x,\n",
    "                     filters_1x1=112,\n",
    "                     filters_3x3_reduce=144,\n",
    "                     filters_3x3=288,\n",
    "                     filters_5x5_reduce=32,\n",
    "                     filters_5x5=64,\n",
    "                     filters_pool_proj=64,\n",
    "                     name='inception_4d')\n",
    "\n",
    "\n",
    "x2 = AveragePooling2D((5, 5), strides=3)(x)\n",
    "x2 = Conv2D(128, (1, 1), padding='same', activation='relu')(x2)\n",
    "x2 = Flatten()(x2)\n",
    "x2 = Dense(1024, activation='relu')(x2)\n",
    "x2 = Dropout(0.7)(x2)\n",
    "x2 = Dense(10, activation='softmax', name='auxilliary_output_2')(x2)\n",
    "\n",
    "x = inception_module(x,\n",
    "                     filters_1x1=256,\n",
    "                     filters_3x3_reduce=160,\n",
    "                     filters_3x3=320,\n",
    "                     filters_5x5_reduce=32,\n",
    "                     filters_5x5=128,\n",
    "                     filters_pool_proj=128,\n",
    "                     name='inception_4e')\n",
    "\n",
    "x = MaxPool2D((3, 3), padding='same', strides=(2, 2), name='max_pool_4_3x3/2')(x)\n",
    "\n",
    "x = inception_module(x,\n",
    "                     filters_1x1=256,\n",
    "                     filters_3x3_reduce=160,\n",
    "                     filters_3x3=320,\n",
    "                     filters_5x5_reduce=32,\n",
    "                     filters_5x5=128,\n",
    "                     filters_pool_proj=128,\n",
    "                     name='inception_5a')\n",
    "\n",
    "x = inception_module(x,\n",
    "                     filters_1x1=384,\n",
    "                     filters_3x3_reduce=192,\n",
    "                     filters_3x3=384,\n",
    "                     filters_5x5_reduce=48,\n",
    "                     filters_5x5=128,\n",
    "                     filters_pool_proj=128,\n",
    "                     name='inception_5b')\n",
    "\n",
    "x = GlobalAveragePooling2D(name='avg_pool_5_3x3/1')(x)\n",
    "\n",
    "x = Dropout(0.4)(x)\n",
    "\n",
    "x = Dense(10, activation='softmax', name='output')(x)"
   ]
  },
  {
   "cell_type": "code",
   "execution_count": 0,
   "metadata": {
    "colab": {},
    "colab_type": "code",
    "id": "yHiENP8OarH8"
   },
   "outputs": [],
   "source": [
    "from keras.models import Model"
   ]
  },
  {
   "cell_type": "code",
   "execution_count": 0,
   "metadata": {
    "colab": {},
    "colab_type": "code",
    "id": "VNSQugdr3LcO"
   },
   "outputs": [],
   "source": [
    "model = Model(input_layer, [x, x1, x2], name='inception_v1')"
   ]
  },
  {
   "cell_type": "code",
   "execution_count": 0,
   "metadata": {
    "colab": {
     "base_uri": "https://localhost:8080/",
     "height": 1000
    },
    "colab_type": "code",
    "id": "0IFp9QTM3epU",
    "outputId": "093186bc-47c0-4a81-9dca-620467c7bcc0"
   },
   "outputs": [
    {
     "name": "stdout",
     "output_type": "stream",
     "text": [
      "Model: \"inception_v1\"\n",
      "__________________________________________________________________________________________________\n",
      "Layer (type)                    Output Shape         Param #     Connected to                     \n",
      "==================================================================================================\n",
      "input_1 (InputLayer)            (None, 224, 224, 3)  0                                            \n",
      "__________________________________________________________________________________________________\n",
      "conv_1_7x7/2 (Conv2D)           (None, 112, 112, 64) 9472        input_1[0][0]                    \n",
      "__________________________________________________________________________________________________\n",
      "max_pool_1_3x3/2 (MaxPooling2D) (None, 56, 56, 64)   0           conv_1_7x7/2[0][0]               \n",
      "__________________________________________________________________________________________________\n",
      "conv_2a_3x3/1 (Conv2D)          (None, 56, 56, 64)   4160        max_pool_1_3x3/2[0][0]           \n",
      "__________________________________________________________________________________________________\n",
      "conv_2b_3x3/1 (Conv2D)          (None, 56, 56, 192)  110784      conv_2a_3x3/1[0][0]              \n",
      "__________________________________________________________________________________________________\n",
      "max_pool_2_3x3/2 (MaxPooling2D) (None, 28, 28, 192)  0           conv_2b_3x3/1[0][0]              \n",
      "__________________________________________________________________________________________________\n",
      "conv2d_2 (Conv2D)               (None, 28, 28, 96)   18528       max_pool_2_3x3/2[0][0]           \n",
      "__________________________________________________________________________________________________\n",
      "conv2d_4 (Conv2D)               (None, 28, 28, 16)   3088        max_pool_2_3x3/2[0][0]           \n",
      "__________________________________________________________________________________________________\n",
      "max_pooling2d_1 (MaxPooling2D)  (None, 28, 28, 192)  0           max_pool_2_3x3/2[0][0]           \n",
      "__________________________________________________________________________________________________\n",
      "conv2d_1 (Conv2D)               (None, 28, 28, 64)   12352       max_pool_2_3x3/2[0][0]           \n",
      "__________________________________________________________________________________________________\n",
      "conv2d_3 (Conv2D)               (None, 28, 28, 128)  110720      conv2d_2[0][0]                   \n",
      "__________________________________________________________________________________________________\n",
      "conv2d_5 (Conv2D)               (None, 28, 28, 32)   12832       conv2d_4[0][0]                   \n",
      "__________________________________________________________________________________________________\n",
      "conv2d_6 (Conv2D)               (None, 28, 28, 32)   6176        max_pooling2d_1[0][0]            \n",
      "__________________________________________________________________________________________________\n",
      "inception_3a (Concatenate)      (None, 28, 28, 256)  0           conv2d_1[0][0]                   \n",
      "                                                                 conv2d_3[0][0]                   \n",
      "                                                                 conv2d_5[0][0]                   \n",
      "                                                                 conv2d_6[0][0]                   \n",
      "__________________________________________________________________________________________________\n",
      "conv2d_8 (Conv2D)               (None, 28, 28, 128)  32896       inception_3a[0][0]               \n",
      "__________________________________________________________________________________________________\n",
      "conv2d_10 (Conv2D)              (None, 28, 28, 32)   8224        inception_3a[0][0]               \n",
      "__________________________________________________________________________________________________\n",
      "max_pooling2d_2 (MaxPooling2D)  (None, 28, 28, 256)  0           inception_3a[0][0]               \n",
      "__________________________________________________________________________________________________\n",
      "conv2d_7 (Conv2D)               (None, 28, 28, 128)  32896       inception_3a[0][0]               \n",
      "__________________________________________________________________________________________________\n",
      "conv2d_9 (Conv2D)               (None, 28, 28, 192)  221376      conv2d_8[0][0]                   \n",
      "__________________________________________________________________________________________________\n",
      "conv2d_11 (Conv2D)              (None, 28, 28, 96)   76896       conv2d_10[0][0]                  \n",
      "__________________________________________________________________________________________________\n",
      "conv2d_12 (Conv2D)              (None, 28, 28, 64)   16448       max_pooling2d_2[0][0]            \n",
      "__________________________________________________________________________________________________\n",
      "inception_3b (Concatenate)      (None, 28, 28, 480)  0           conv2d_7[0][0]                   \n",
      "                                                                 conv2d_9[0][0]                   \n",
      "                                                                 conv2d_11[0][0]                  \n",
      "                                                                 conv2d_12[0][0]                  \n",
      "__________________________________________________________________________________________________\n",
      "max_pool_3_3x3/2 (MaxPooling2D) (None, 14, 14, 480)  0           inception_3b[0][0]               \n",
      "__________________________________________________________________________________________________\n",
      "conv2d_14 (Conv2D)              (None, 14, 14, 96)   46176       max_pool_3_3x3/2[0][0]           \n",
      "__________________________________________________________________________________________________\n",
      "conv2d_16 (Conv2D)              (None, 14, 14, 16)   7696        max_pool_3_3x3/2[0][0]           \n",
      "__________________________________________________________________________________________________\n",
      "max_pooling2d_3 (MaxPooling2D)  (None, 14, 14, 480)  0           max_pool_3_3x3/2[0][0]           \n",
      "__________________________________________________________________________________________________\n",
      "conv2d_13 (Conv2D)              (None, 14, 14, 192)  92352       max_pool_3_3x3/2[0][0]           \n",
      "__________________________________________________________________________________________________\n",
      "conv2d_15 (Conv2D)              (None, 14, 14, 208)  179920      conv2d_14[0][0]                  \n",
      "__________________________________________________________________________________________________\n",
      "conv2d_17 (Conv2D)              (None, 14, 14, 48)   19248       conv2d_16[0][0]                  \n",
      "__________________________________________________________________________________________________\n",
      "conv2d_18 (Conv2D)              (None, 14, 14, 64)   30784       max_pooling2d_3[0][0]            \n",
      "__________________________________________________________________________________________________\n",
      "inception_4a (Concatenate)      (None, 14, 14, 512)  0           conv2d_13[0][0]                  \n",
      "                                                                 conv2d_15[0][0]                  \n",
      "                                                                 conv2d_17[0][0]                  \n",
      "                                                                 conv2d_18[0][0]                  \n",
      "__________________________________________________________________________________________________\n",
      "conv2d_21 (Conv2D)              (None, 14, 14, 112)  57456       inception_4a[0][0]               \n",
      "__________________________________________________________________________________________________\n",
      "conv2d_23 (Conv2D)              (None, 14, 14, 24)   12312       inception_4a[0][0]               \n",
      "__________________________________________________________________________________________________\n",
      "max_pooling2d_4 (MaxPooling2D)  (None, 14, 14, 512)  0           inception_4a[0][0]               \n",
      "__________________________________________________________________________________________________\n",
      "conv2d_20 (Conv2D)              (None, 14, 14, 160)  82080       inception_4a[0][0]               \n",
      "__________________________________________________________________________________________________\n",
      "conv2d_22 (Conv2D)              (None, 14, 14, 224)  226016      conv2d_21[0][0]                  \n",
      "__________________________________________________________________________________________________\n",
      "conv2d_24 (Conv2D)              (None, 14, 14, 64)   38464       conv2d_23[0][0]                  \n",
      "__________________________________________________________________________________________________\n",
      "conv2d_25 (Conv2D)              (None, 14, 14, 64)   32832       max_pooling2d_4[0][0]            \n",
      "__________________________________________________________________________________________________\n",
      "inception_4b (Concatenate)      (None, 14, 14, 512)  0           conv2d_20[0][0]                  \n",
      "                                                                 conv2d_22[0][0]                  \n",
      "                                                                 conv2d_24[0][0]                  \n",
      "                                                                 conv2d_25[0][0]                  \n",
      "__________________________________________________________________________________________________\n",
      "conv2d_27 (Conv2D)              (None, 14, 14, 128)  65664       inception_4b[0][0]               \n",
      "__________________________________________________________________________________________________\n",
      "conv2d_29 (Conv2D)              (None, 14, 14, 24)   12312       inception_4b[0][0]               \n",
      "__________________________________________________________________________________________________\n",
      "max_pooling2d_5 (MaxPooling2D)  (None, 14, 14, 512)  0           inception_4b[0][0]               \n",
      "__________________________________________________________________________________________________\n",
      "conv2d_26 (Conv2D)              (None, 14, 14, 128)  65664       inception_4b[0][0]               \n",
      "__________________________________________________________________________________________________\n",
      "conv2d_28 (Conv2D)              (None, 14, 14, 256)  295168      conv2d_27[0][0]                  \n",
      "__________________________________________________________________________________________________\n",
      "conv2d_30 (Conv2D)              (None, 14, 14, 64)   38464       conv2d_29[0][0]                  \n",
      "__________________________________________________________________________________________________\n",
      "conv2d_31 (Conv2D)              (None, 14, 14, 64)   32832       max_pooling2d_5[0][0]            \n",
      "__________________________________________________________________________________________________\n",
      "inception_4c (Concatenate)      (None, 14, 14, 512)  0           conv2d_26[0][0]                  \n",
      "                                                                 conv2d_28[0][0]                  \n",
      "                                                                 conv2d_30[0][0]                  \n",
      "                                                                 conv2d_31[0][0]                  \n",
      "__________________________________________________________________________________________________\n",
      "conv2d_33 (Conv2D)              (None, 14, 14, 144)  73872       inception_4c[0][0]               \n",
      "__________________________________________________________________________________________________\n",
      "conv2d_35 (Conv2D)              (None, 14, 14, 32)   16416       inception_4c[0][0]               \n",
      "__________________________________________________________________________________________________\n",
      "max_pooling2d_6 (MaxPooling2D)  (None, 14, 14, 512)  0           inception_4c[0][0]               \n",
      "__________________________________________________________________________________________________\n",
      "conv2d_32 (Conv2D)              (None, 14, 14, 112)  57456       inception_4c[0][0]               \n",
      "__________________________________________________________________________________________________\n",
      "conv2d_34 (Conv2D)              (None, 14, 14, 288)  373536      conv2d_33[0][0]                  \n",
      "__________________________________________________________________________________________________\n",
      "conv2d_36 (Conv2D)              (None, 14, 14, 64)   51264       conv2d_35[0][0]                  \n",
      "__________________________________________________________________________________________________\n",
      "conv2d_37 (Conv2D)              (None, 14, 14, 64)   32832       max_pooling2d_6[0][0]            \n",
      "__________________________________________________________________________________________________\n",
      "inception_4d (Concatenate)      (None, 14, 14, 528)  0           conv2d_32[0][0]                  \n",
      "                                                                 conv2d_34[0][0]                  \n",
      "                                                                 conv2d_36[0][0]                  \n",
      "                                                                 conv2d_37[0][0]                  \n",
      "__________________________________________________________________________________________________\n",
      "conv2d_40 (Conv2D)              (None, 14, 14, 160)  84640       inception_4d[0][0]               \n",
      "__________________________________________________________________________________________________\n",
      "conv2d_42 (Conv2D)              (None, 14, 14, 32)   16928       inception_4d[0][0]               \n",
      "__________________________________________________________________________________________________\n",
      "max_pooling2d_7 (MaxPooling2D)  (None, 14, 14, 528)  0           inception_4d[0][0]               \n",
      "__________________________________________________________________________________________________\n",
      "conv2d_39 (Conv2D)              (None, 14, 14, 256)  135424      inception_4d[0][0]               \n",
      "__________________________________________________________________________________________________\n",
      "conv2d_41 (Conv2D)              (None, 14, 14, 320)  461120      conv2d_40[0][0]                  \n",
      "__________________________________________________________________________________________________\n",
      "conv2d_43 (Conv2D)              (None, 14, 14, 128)  102528      conv2d_42[0][0]                  \n",
      "__________________________________________________________________________________________________\n",
      "conv2d_44 (Conv2D)              (None, 14, 14, 128)  67712       max_pooling2d_7[0][0]            \n",
      "__________________________________________________________________________________________________\n",
      "inception_4e (Concatenate)      (None, 14, 14, 832)  0           conv2d_39[0][0]                  \n",
      "                                                                 conv2d_41[0][0]                  \n",
      "                                                                 conv2d_43[0][0]                  \n",
      "                                                                 conv2d_44[0][0]                  \n",
      "__________________________________________________________________________________________________\n",
      "max_pool_4_3x3/2 (MaxPooling2D) (None, 7, 7, 832)    0           inception_4e[0][0]               \n",
      "__________________________________________________________________________________________________\n",
      "conv2d_46 (Conv2D)              (None, 7, 7, 160)    133280      max_pool_4_3x3/2[0][0]           \n",
      "__________________________________________________________________________________________________\n",
      "conv2d_48 (Conv2D)              (None, 7, 7, 32)     26656       max_pool_4_3x3/2[0][0]           \n",
      "__________________________________________________________________________________________________\n",
      "max_pooling2d_8 (MaxPooling2D)  (None, 7, 7, 832)    0           max_pool_4_3x3/2[0][0]           \n",
      "__________________________________________________________________________________________________\n",
      "conv2d_45 (Conv2D)              (None, 7, 7, 256)    213248      max_pool_4_3x3/2[0][0]           \n",
      "__________________________________________________________________________________________________\n",
      "conv2d_47 (Conv2D)              (None, 7, 7, 320)    461120      conv2d_46[0][0]                  \n",
      "__________________________________________________________________________________________________\n",
      "conv2d_49 (Conv2D)              (None, 7, 7, 128)    102528      conv2d_48[0][0]                  \n",
      "__________________________________________________________________________________________________\n",
      "conv2d_50 (Conv2D)              (None, 7, 7, 128)    106624      max_pooling2d_8[0][0]            \n",
      "__________________________________________________________________________________________________\n",
      "inception_5a (Concatenate)      (None, 7, 7, 832)    0           conv2d_45[0][0]                  \n",
      "                                                                 conv2d_47[0][0]                  \n",
      "                                                                 conv2d_49[0][0]                  \n",
      "                                                                 conv2d_50[0][0]                  \n",
      "__________________________________________________________________________________________________\n",
      "conv2d_52 (Conv2D)              (None, 7, 7, 192)    159936      inception_5a[0][0]               \n",
      "__________________________________________________________________________________________________\n",
      "conv2d_54 (Conv2D)              (None, 7, 7, 48)     39984       inception_5a[0][0]               \n",
      "__________________________________________________________________________________________________\n",
      "max_pooling2d_9 (MaxPooling2D)  (None, 7, 7, 832)    0           inception_5a[0][0]               \n",
      "__________________________________________________________________________________________________\n",
      "average_pooling2d_1 (AveragePoo (None, 4, 4, 512)    0           inception_4a[0][0]               \n",
      "__________________________________________________________________________________________________\n",
      "average_pooling2d_2 (AveragePoo (None, 4, 4, 528)    0           inception_4d[0][0]               \n",
      "__________________________________________________________________________________________________\n",
      "conv2d_51 (Conv2D)              (None, 7, 7, 384)    319872      inception_5a[0][0]               \n",
      "__________________________________________________________________________________________________\n",
      "conv2d_53 (Conv2D)              (None, 7, 7, 384)    663936      conv2d_52[0][0]                  \n",
      "__________________________________________________________________________________________________\n",
      "conv2d_55 (Conv2D)              (None, 7, 7, 128)    153728      conv2d_54[0][0]                  \n",
      "__________________________________________________________________________________________________\n",
      "conv2d_56 (Conv2D)              (None, 7, 7, 128)    106624      max_pooling2d_9[0][0]            \n",
      "__________________________________________________________________________________________________\n",
      "conv2d_19 (Conv2D)              (None, 4, 4, 128)    65664       average_pooling2d_1[0][0]        \n",
      "__________________________________________________________________________________________________\n",
      "conv2d_38 (Conv2D)              (None, 4, 4, 128)    67712       average_pooling2d_2[0][0]        \n",
      "__________________________________________________________________________________________________\n",
      "inception_5b (Concatenate)      (None, 7, 7, 1024)   0           conv2d_51[0][0]                  \n",
      "                                                                 conv2d_53[0][0]                  \n",
      "                                                                 conv2d_55[0][0]                  \n",
      "                                                                 conv2d_56[0][0]                  \n",
      "__________________________________________________________________________________________________\n",
      "flatten_1 (Flatten)             (None, 2048)         0           conv2d_19[0][0]                  \n",
      "__________________________________________________________________________________________________\n",
      "flatten_2 (Flatten)             (None, 2048)         0           conv2d_38[0][0]                  \n",
      "__________________________________________________________________________________________________\n",
      "avg_pool_5_3x3/1 (GlobalAverage (None, 1024)         0           inception_5b[0][0]               \n",
      "__________________________________________________________________________________________________\n",
      "dense_1 (Dense)                 (None, 1024)         2098176     flatten_1[0][0]                  \n",
      "__________________________________________________________________________________________________\n",
      "dense_2 (Dense)                 (None, 1024)         2098176     flatten_2[0][0]                  \n",
      "__________________________________________________________________________________________________\n",
      "dropout_3 (Dropout)             (None, 1024)         0           avg_pool_5_3x3/1[0][0]           \n",
      "__________________________________________________________________________________________________\n",
      "dropout_1 (Dropout)             (None, 1024)         0           dense_1[0][0]                    \n",
      "__________________________________________________________________________________________________\n",
      "dropout_2 (Dropout)             (None, 1024)         0           dense_2[0][0]                    \n",
      "__________________________________________________________________________________________________\n",
      "output (Dense)                  (None, 10)           10250       dropout_3[0][0]                  \n",
      "__________________________________________________________________________________________________\n",
      "auxilliary_output_1 (Dense)     (None, 10)           10250       dropout_1[0][0]                  \n",
      "__________________________________________________________________________________________________\n",
      "auxilliary_output_2 (Dense)     (None, 10)           10250       dropout_2[0][0]                  \n",
      "==================================================================================================\n",
      "Total params: 10,334,030\n",
      "Trainable params: 10,334,030\n",
      "Non-trainable params: 0\n",
      "__________________________________________________________________________________________________\n"
     ]
    }
   ],
   "source": [
    "model.summary()"
   ]
  },
  {
   "cell_type": "code",
   "execution_count": 0,
   "metadata": {
    "colab": {},
    "colab_type": "code",
    "id": "50Vt4-Jva4Ki"
   },
   "outputs": [],
   "source": [
    "import math \n",
    "from keras.optimizers import SGD \n",
    "from keras.callbacks import LearningRateScheduler"
   ]
  },
  {
   "cell_type": "code",
   "execution_count": 0,
   "metadata": {
    "colab": {},
    "colab_type": "code",
    "id": "2QyfKQwq3hZP"
   },
   "outputs": [],
   "source": [
    "#Loss function for each output layer\n",
    "#Weightage assigned to that output layer\n",
    "#Optimization function, which is modified to include a weight decay after every 8 epochs\n",
    "#Evaluation metric\n",
    "\n",
    "epochs = 25\n",
    "initial_lrate = 0.01\n",
    "\n",
    "def decay(epoch, steps=100):\n",
    "    initial_lrate = 0.01\n",
    "    drop = 0.96\n",
    "    epochs_drop = 8\n",
    "    lrate = initial_lrate * math.pow(drop, math.floor((1+epoch)/epochs_drop))\n",
    "    return lrate\n",
    "\n",
    "sgd = SGD(lr=initial_lrate, momentum=0.9, nesterov=False)\n",
    "\n",
    "lr_sc = LearningRateScheduler(decay, verbose=1)\n",
    "\n",
    "model.compile(loss=['categorical_crossentropy', 'categorical_crossentropy', 'categorical_crossentropy'], loss_weights=[1, 0.3, 0.3], optimizer=sgd, metrics=['accuracy'])"
   ]
  },
  {
   "cell_type": "code",
   "execution_count": 0,
   "metadata": {
    "colab": {
     "base_uri": "https://localhost:8080/",
     "height": 183
    },
    "colab_type": "code",
    "id": "jgxO0o0a35KX",
    "outputId": "d51c9609-55b2-452e-c9ea-144ce25f45a1"
   },
   "outputs": [
    {
     "ename": "NameError",
     "evalue": "ignored",
     "output_type": "error",
     "traceback": [
      "\u001b[0;31m---------------------------------------------------------------------------\u001b[0m",
      "\u001b[0;31mNameError\u001b[0m                                 Traceback (most recent call last)",
      "\u001b[0;32m<ipython-input-11-d248d28601b3>\u001b[0m in \u001b[0;36m<module>\u001b[0;34m()\u001b[0m\n\u001b[0;32m----> 1\u001b[0;31m \u001b[0mhistory\u001b[0m \u001b[0;34m=\u001b[0m \u001b[0mmodel\u001b[0m\u001b[0;34m.\u001b[0m\u001b[0mfit\u001b[0m\u001b[0;34m(\u001b[0m\u001b[0mX_train\u001b[0m\u001b[0;34m,\u001b[0m \u001b[0;34m[\u001b[0m\u001b[0my_train\u001b[0m\u001b[0;34m,\u001b[0m \u001b[0my_train\u001b[0m\u001b[0;34m,\u001b[0m \u001b[0my_train\u001b[0m\u001b[0;34m]\u001b[0m\u001b[0;34m,\u001b[0m \u001b[0mvalidation_data\u001b[0m\u001b[0;34m=\u001b[0m\u001b[0;34m(\u001b[0m\u001b[0mX_valid\u001b[0m\u001b[0;34m,\u001b[0m \u001b[0;34m[\u001b[0m\u001b[0my_valid\u001b[0m\u001b[0;34m,\u001b[0m \u001b[0my_valid\u001b[0m\u001b[0;34m,\u001b[0m \u001b[0my_valid\u001b[0m\u001b[0;34m]\u001b[0m\u001b[0;34m)\u001b[0m\u001b[0;34m,\u001b[0m \u001b[0mepochs\u001b[0m\u001b[0;34m=\u001b[0m\u001b[0mepochs\u001b[0m\u001b[0;34m,\u001b[0m \u001b[0mbatch_size\u001b[0m\u001b[0;34m=\u001b[0m\u001b[0;36m256\u001b[0m\u001b[0;34m,\u001b[0m \u001b[0mcallbacks\u001b[0m\u001b[0;34m=\u001b[0m\u001b[0;34m[\u001b[0m\u001b[0mlr_sc\u001b[0m\u001b[0;34m]\u001b[0m\u001b[0;34m)\u001b[0m\u001b[0;34m\u001b[0m\u001b[0;34m\u001b[0m\u001b[0m\n\u001b[0m",
      "\u001b[0;31mNameError\u001b[0m: name 'X_train' is not defined"
     ]
    }
   ],
   "source": [
    "#Training the model\n",
    "history = model.fit(X_train, [y_train, y_train, y_train], validation_data=(X_valid, [y_valid, y_valid, y_valid]), epochs=epochs, batch_size=256, callbacks=[lr_sc])"
   ]
  },
  {
   "cell_type": "code",
   "execution_count": 0,
   "metadata": {
    "colab": {},
    "colab_type": "code",
    "id": "JIiXep5O4m7o"
   },
   "outputs": [],
   "source": [
    "#Model Evaluation \n",
    "scores = model.evaluate(test_x_images, test_y,verbose=1)"
   ]
  }
 ],
 "metadata": {
  "colab": {
   "collapsed_sections": [],
   "machine_shape": "hm",
   "name": "Project3Group27.ipynb",
   "provenance": []
  },
  "kernelspec": {
   "display_name": "Python 3",
   "language": "python",
   "name": "python3"
  },
  "language_info": {
   "codemirror_mode": {
    "name": "ipython",
    "version": 3
   },
   "file_extension": ".py",
   "mimetype": "text/x-python",
   "name": "python",
   "nbconvert_exporter": "python",
   "pygments_lexer": "ipython3",
   "version": "3.7.4"
  }
 },
 "nbformat": 4,
 "nbformat_minor": 1
}
